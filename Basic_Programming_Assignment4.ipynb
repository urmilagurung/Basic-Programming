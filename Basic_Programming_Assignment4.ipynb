{
 "cells": [
  {
   "cell_type": "markdown",
   "metadata": {},
   "source": [
    "# Basic Programming Assingment 4"
   ]
  },
  {
   "cell_type": "markdown",
   "metadata": {},
   "source": [
    "1.\tWrite a Python Program to Find the Factorial of a Number?"
   ]
  },
  {
   "cell_type": "code",
   "execution_count": 7,
   "metadata": {},
   "outputs": [
    {
     "data": {
      "text/plain": [
       "3628800"
      ]
     },
     "execution_count": 7,
     "metadata": {},
     "output_type": "execute_result"
    }
   ],
   "source": [
    "def find_factorial(num):\n",
    "    fact=1\n",
    "    for i in range(1,num+1):\n",
    "        fact=i*fact\n",
    "    return fact\n",
    "find_factorial(10)"
   ]
  },
  {
   "cell_type": "markdown",
   "metadata": {},
   "source": [
    "2.\tWrite a Python Program to Display the multiplication Table?"
   ]
  },
  {
   "cell_type": "code",
   "execution_count": 13,
   "metadata": {},
   "outputs": [
    {
     "name": "stdout",
     "output_type": "stream",
     "text": [
      "1*100=100\n",
      "2*100=200\n",
      "3*100=300\n",
      "4*100=400\n",
      "5*100=500\n",
      "6*100=600\n",
      "7*100=700\n",
      "8*100=800\n",
      "9*100=900\n",
      "10*100=1000\n"
     ]
    }
   ],
   "source": [
    "def mul_table(num):\n",
    "    for i in range(1,11):\n",
    "        print(f'{i}*{num}={i*num}')\n",
    "mul_table(100)"
   ]
  },
  {
   "cell_type": "markdown",
   "metadata": {},
   "source": [
    "3.\tWrite a Python Program to Print the Fibonacci sequence?"
   ]
  },
  {
   "cell_type": "code",
   "execution_count": 26,
   "metadata": {},
   "outputs": [
    {
     "name": "stdout",
     "output_type": "stream",
     "text": [
      "Fibonacci Sequence for Range  7 :\n",
      "0 1 1 2 3 5 8 "
     ]
    }
   ],
   "source": [
    "def Fibonacci_sequence_Range(r):\n",
    "    a,b=0,1\n",
    "    if r>0:\n",
    "        print('Fibonacci Sequence for Range ',r,':')\n",
    "        for i in range(r):\n",
    "            print(a,end=' ')\n",
    "            a,b=b,a+b\n",
    "    else:\n",
    "        print('Please enter number greater than 0')\n",
    "Fibonacci_sequence_Range(7)"
   ]
  },
  {
   "cell_type": "markdown",
   "metadata": {},
   "source": [
    "4.\tWrite a Python Program to Check Armstrong Number?"
   ]
  },
  {
   "cell_type": "code",
   "execution_count": 74,
   "metadata": {},
   "outputs": [
    {
     "data": {
      "text/plain": [
       "'9474 is an Armstrong Number'"
      ]
     },
     "execution_count": 74,
     "metadata": {},
     "output_type": "execute_result"
    }
   ],
   "source": [
    "def AmstrongNumber(n):\n",
    "    result=0\n",
    "    if int(n)>0:\n",
    "        if n.isdigit():\n",
    "            m=len(n)\n",
    "            for i in range(m):\n",
    "                result+=(int(n[i])**m)\n",
    "            if result==int(n):\n",
    "                return f'{n} is an Armstrong Number'\n",
    "            else:\n",
    "                return f'{n} is not an Armstrong Number!!'\n",
    "    return f'{n} is not an Armstrong Number!!'\n",
    "AmstrongNumber('9474')"
   ]
  },
  {
   "cell_type": "markdown",
   "metadata": {},
   "source": [
    "5.\tWrite a Python Program to Find Armstrong Number in an Interval?"
   ]
  },
  {
   "cell_type": "code",
   "execution_count": 102,
   "metadata": {},
   "outputs": [
    {
     "name": "stdout",
     "output_type": "stream",
     "text": [
      "Below are Armstrong numbers in the interval of 1 and 20000: \n",
      "1   2   3   4   5   6   7   8   9   153   370   371   407   1634   8208   9474   "
     ]
    }
   ],
   "source": [
    "def AmstrongNumber_Interval(lower,upper):\n",
    "    print(f'Below are Armstrong numbers in the interval of {lower} and {upper}: ')\n",
    "    for i in range(lower,upper+1):\n",
    "        length=len(str(i))\n",
    "        result=0\n",
    "        temp=i\n",
    "        while temp>0:\n",
    "            digit=temp%10\n",
    "            result+=digit**length\n",
    "            temp=temp//10\n",
    "        if i==result:\n",
    "            print(result,end='   ')\n",
    "            \n",
    "AmstrongNumber_Interval(1,20000)"
   ]
  },
  {
   "cell_type": "markdown",
   "metadata": {},
   "source": [
    "6.\tWrite a Python Program to Find the Sum of Natural Numbers?"
   ]
  },
  {
   "cell_type": "code",
   "execution_count": 114,
   "metadata": {},
   "outputs": [
    {
     "name": "stdout",
     "output_type": "stream",
     "text": [
      "Enter natural number till which you require sum: 0\n",
      "Natural Number Only!\n",
      "Enter natural number till which you require sum: -100\n",
      "Natural Number Only!\n",
      "Enter natural number till which you require sum: 100\n",
      "Sum:  5050\n"
     ]
    }
   ],
   "source": [
    "add=0\n",
    "n=int(input('Enter natural number till which you require sum: '))\n",
    "while n<=0:\n",
    "    print('Natural Number Only!')\n",
    "    n=int(input('Enter natural number till which you require sum: '))\n",
    "for i in range(1,n+1):\n",
    "    add+=i\n",
    "print('Sum: ',add)"
   ]
  }
 ],
 "metadata": {
  "kernelspec": {
   "display_name": "Python 3",
   "language": "python",
   "name": "python3"
  },
  "language_info": {
   "codemirror_mode": {
    "name": "ipython",
    "version": 3
   },
   "file_extension": ".py",
   "mimetype": "text/x-python",
   "name": "python",
   "nbconvert_exporter": "python",
   "pygments_lexer": "ipython3",
   "version": "3.8.5"
  }
 },
 "nbformat": 4,
 "nbformat_minor": 4
}
