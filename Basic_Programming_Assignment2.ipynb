{
 "cells": [
  {
   "cell_type": "markdown",
   "metadata": {},
   "source": [
    "# Basic Programming Assingment 2"
   ]
  },
  {
   "cell_type": "markdown",
   "metadata": {},
   "source": [
    "1.\tWrite a Python program to convert kilometers to miles?"
   ]
  },
  {
   "cell_type": "code",
   "execution_count": 1,
   "metadata": {},
   "outputs": [
    {
     "name": "stdout",
     "output_type": "stream",
     "text": [
      "Enter km you want to convert : 10\n",
      "Miles :  6.2137119\n"
     ]
    }
   ],
   "source": [
    "n=int(input('Enter km you want to convert : '))\n",
    "miles=n*0.62137119\n",
    "print('Miles : ',miles)"
   ]
  },
  {
   "cell_type": "markdown",
   "metadata": {},
   "source": [
    "2.\tWrite a Python program to convert Celsius to Fahrenheit?"
   ]
  },
  {
   "cell_type": "code",
   "execution_count": 2,
   "metadata": {},
   "outputs": [
    {
     "name": "stdout",
     "output_type": "stream",
     "text": [
      "Enter Temp in Celsius : 34\n",
      "Temp in Fahrenheit :  93.2\n"
     ]
    }
   ],
   "source": [
    "n=int(input('Enter Temp in Celsius : '))\n",
    "result=(n*1.8)+32\n",
    "print('Temp in Fahrenheit : ',result)"
   ]
  },
  {
   "cell_type": "markdown",
   "metadata": {},
   "source": [
    "3.\tWrite a Python program to display calendar?"
   ]
  },
  {
   "cell_type": "code",
   "execution_count": 3,
   "metadata": {},
   "outputs": [
    {
     "name": "stdout",
     "output_type": "stream",
     "text": [
      "   September 2021\n",
      "Mo Tu We Th Fr Sa Su\n",
      "       1  2  3  4  5\n",
      " 6  7  8  9 10 11 12\n",
      "13 14 15 16 17 18 19\n",
      "20 21 22 23 24 25 26\n",
      "27 28 29 30\n",
      "\n"
     ]
    }
   ],
   "source": [
    "import calendar\n",
    "d=calendar.month(2021,9)\n",
    "print(d)"
   ]
  },
  {
   "cell_type": "markdown",
   "metadata": {},
   "source": [
    "4.\tWrite a Python program to solve quadratic equation?"
   ]
  },
  {
   "cell_type": "code",
   "execution_count": 4,
   "metadata": {},
   "outputs": [
    {
     "name": "stdout",
     "output_type": "stream",
     "text": [
      "30\n",
      "1\n",
      "-2\n",
      "Real Root 1 :  217.86262044390037\n",
      "Real Root 2 :  -247.8626204439004\n"
     ]
    }
   ],
   "source": [
    "import math\n",
    "a,b,c=int(input()),int(input()),int(input())\n",
    "discriminant=pow(b,2)-(4*a*c)\n",
    "squareroot=math.sqrt(abs(discriminant))\n",
    "\n",
    "if discriminant==0:\n",
    "    print('Real Root : ',(-b/2)*a)\n",
    "elif discriminant>0:  \n",
    "    print('Real Root 1 : ',(-b+squareroot)/2*a)\n",
    "    print('Real Root 2 : ',(-b-squareroot)/2*a)\n",
    "else:\n",
    "    print('Complex Root 1 : ',(-b+squareroot)/2*a,' + i',squareroot)\n",
    "    print('Complex Root 2 : ',(-b-squareroot)/2*a,' + i',squareroot)"
   ]
  },
  {
   "cell_type": "markdown",
   "metadata": {},
   "source": [
    "5.\tWrite a Python program to swap two variables without temp variable?"
   ]
  },
  {
   "cell_type": "code",
   "execution_count": 5,
   "metadata": {},
   "outputs": [
    {
     "name": "stdout",
     "output_type": "stream",
     "text": [
      "20\n",
      "100\n",
      "Value of a :  100 Value of b :  20\n"
     ]
    }
   ],
   "source": [
    "a,b=int(input()),int(input())\n",
    "a=a+b\n",
    "b=a-b\n",
    "a=a-b\n",
    "print('Value of a : ',a,'Value of b : ',b)"
   ]
  },
  {
   "cell_type": "code",
   "execution_count": null,
   "metadata": {},
   "outputs": [],
   "source": []
  }
 ],
 "metadata": {
  "kernelspec": {
   "display_name": "Python 3",
   "language": "python",
   "name": "python3"
  },
  "language_info": {
   "codemirror_mode": {
    "name": "ipython",
    "version": 3
   },
   "file_extension": ".py",
   "mimetype": "text/x-python",
   "name": "python",
   "nbconvert_exporter": "python",
   "pygments_lexer": "ipython3",
   "version": "3.8.5"
  }
 },
 "nbformat": 4,
 "nbformat_minor": 4
}
