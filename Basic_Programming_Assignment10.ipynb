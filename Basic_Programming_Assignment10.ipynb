{
 "cells": [
  {
   "cell_type": "markdown",
   "metadata": {},
   "source": [
    "# Assignment 10"
   ]
  },
  {
   "cell_type": "markdown",
   "metadata": {},
   "source": [
    "1.\tWrite a Python program to find sum of elements in list?"
   ]
  },
  {
   "cell_type": "code",
   "execution_count": 6,
   "metadata": {},
   "outputs": [
    {
     "name": "stdout",
     "output_type": "stream",
     "text": [
      "Elements you want in a list : 9\n",
      "10\n",
      "20\n",
      "30\n",
      "40\n",
      "50\n",
      "60\n",
      "70\n",
      "80\n",
      "90\n",
      "List : [10, 20, 30, 40, 50, 60, 70, 80, 90]\n",
      "Sum of List Elements : 450\n"
     ]
    }
   ],
   "source": [
    "def listsum(l):\n",
    "    sum=0\n",
    "    for i in range(len(l)):\n",
    "        sum+=l[i]\n",
    "    return sum\n",
    "\n",
    "noofelementinlist=int(input('Elements you want in a list : '))\n",
    "l=[]\n",
    "for i in range(noofelementinlist):\n",
    "    l.append(int(input()))\n",
    "\n",
    "print(f'List : {l}\\nSum of List Elements : {listsum(l)}')"
   ]
  },
  {
   "cell_type": "markdown",
   "metadata": {},
   "source": [
    "2.\tWrite a Python program to  Multiply all numbers in the list?"
   ]
  },
  {
   "cell_type": "code",
   "execution_count": 10,
   "metadata": {},
   "outputs": [
    {
     "name": "stdout",
     "output_type": "stream",
     "text": [
      "Elements you want in a list : 5\n",
      "10\n",
      "20\n",
      "30\n",
      "40\n",
      "50\n",
      "List : [10, 20, 30, 40, 50]\n",
      "Multiplication of List Elements : 12000000\n"
     ]
    }
   ],
   "source": [
    "def listmul(l):\n",
    "    mul=1\n",
    "    for i in range(len(l)):\n",
    "        mul*=l[i]\n",
    "    return mul\n",
    "\n",
    "noofelementinlist=int(input('Elements you want in a list : '))\n",
    "l=[]\n",
    "for i in range(noofelementinlist):\n",
    "    l.append(int(input()))\n",
    "\n",
    "print(f'List : {l}\\nMultiplication of List Elements : {listmul(l)}')"
   ]
  },
  {
   "cell_type": "markdown",
   "metadata": {},
   "source": [
    "3.\tWrite a Python program to find smallest number in a list?"
   ]
  },
  {
   "cell_type": "code",
   "execution_count": 1,
   "metadata": {},
   "outputs": [
    {
     "name": "stdout",
     "output_type": "stream",
     "text": [
      "Elements you want in a list : 5\n",
      "0\n",
      "10\n",
      "20\n",
      "-9\n",
      "-100\n",
      "List : [0, 10, 20, -9, -100]\n",
      "Smallest Element in List : -100\n"
     ]
    }
   ],
   "source": [
    "def findSmallestnumber(l):\n",
    "    small=l[0]\n",
    "    for i in range(len(l)):\n",
    "        if small>l[i]:\n",
    "            small=l[i]\n",
    "    return small\n",
    "\n",
    "noofelementinlist=int(input('Elements you want in a list : '))\n",
    "l=[]\n",
    "for i in range(noofelementinlist):\n",
    "    l.append(int(input()))\n",
    "\n",
    "print(f'List : {l}\\nSmallest Element in List : {findSmallestnumber(l)}')"
   ]
  },
  {
   "cell_type": "markdown",
   "metadata": {},
   "source": [
    "4.\tWrite a Python program to find largest number in a list?"
   ]
  },
  {
   "cell_type": "code",
   "execution_count": 4,
   "metadata": {},
   "outputs": [
    {
     "name": "stdout",
     "output_type": "stream",
     "text": [
      "List : [10, 20, 30, -100, 100, 30, 590, 908]\n",
      "Largest Element in List : 908\n"
     ]
    }
   ],
   "source": [
    "def findlargestnumber(l):\n",
    "    large=l[0]\n",
    "    for i in range(len(l)):\n",
    "        if large<l[i]:\n",
    "            large=l[i]\n",
    "    return large\n",
    "\n",
    "l=[10,20,30,-100,100,30,590,908]\n",
    "print(f'List : {l}\\nLargest Element in List : {findlargestnumber(l)}')"
   ]
  },
  {
   "cell_type": "markdown",
   "metadata": {},
   "source": [
    "5.\tWrite a Python program to find second largest number in a list?"
   ]
  },
  {
   "cell_type": "code",
   "execution_count": 17,
   "metadata": {},
   "outputs": [
    {
     "name": "stdout",
     "output_type": "stream",
     "text": [
      "List : [10, 20, 30, -100, 900, 30, 590, 908, 899]\n",
      "Second Largest Element in List : 900\n"
     ]
    }
   ],
   "source": [
    "def findseclargestnumber(l):\n",
    "    large=l[0]\n",
    "    seclarge=l[0]\n",
    "    for i in range(len(l)):\n",
    "        if large<l[i]:\n",
    "            seclarge=large\n",
    "            large=l[i]\n",
    "        elif large!=l[i] and seclarge<l[i]:\n",
    "            seclarge=l[i]\n",
    "    return seclarge\n",
    "\n",
    "l=[10,20,30,-100,900,30,590,908,899]\n",
    "print(f'List : {l}\\nSecond Largest Element in List : {findseclargestnumber(l)}')"
   ]
  },
  {
   "cell_type": "markdown",
   "metadata": {},
   "source": [
    "6.\tWrite a Python program to find N largest elements from a list?"
   ]
  },
  {
   "cell_type": "code",
   "execution_count": 37,
   "metadata": {},
   "outputs": [
    {
     "name": "stdout",
     "output_type": "stream",
     "text": [
      "List : [650, 20, 30, -100, 100, 30, 590, -908, -899, -1000]\n",
      "Largest Element in List : [650, 590, 100, 30, 20]\n"
     ]
    }
   ],
   "source": [
    "def findlargestnumbers(l,n):\n",
    "    nnumbers=[]\n",
    "    for j in range(0,n):\n",
    "        large=0\n",
    "        for i in range(len(l)):\n",
    "            if large<l[i] and (l[i] not in nnumbers):\n",
    "                large=l[i]\n",
    "        nnumbers.append(large)\n",
    "    return nnumbers\n",
    "\n",
    "l=[650,20,30,-100,100,30,590,-908,-899,-1000]\n",
    "print(f'List : {l}\\nLargest Element in List : {findlargestnumbers(l,5)}')"
   ]
  },
  {
   "cell_type": "markdown",
   "metadata": {},
   "source": [
    "7.\tWrite a Python program to print even numbers in a list?"
   ]
  },
  {
   "cell_type": "code",
   "execution_count": 6,
   "metadata": {},
   "outputs": [
    {
     "name": "stdout",
     "output_type": "stream",
     "text": [
      "List : [650, 20, 30, 2100, 100, 301, 5901, 9081, 899, 10001]\n",
      "Even Number in List : [650, 20, 30, 2100, 100]\n"
     ]
    }
   ],
   "source": [
    "def evennumber(list1):\n",
    "    even=[]\n",
    "    for i in range(len(list1)):\n",
    "        if list1[i]%2==0:\n",
    "            even.append(list1[i])\n",
    "    return even\n",
    "\n",
    "list1=[650,20,30,2100,100,301,5901,9081,899,10001]\n",
    "print(f'List : {list1}\\nEven Number in List : {evennumber(list1)}')"
   ]
  },
  {
   "cell_type": "markdown",
   "metadata": {},
   "source": [
    "8.\tWrite a Python program to print odd numbers in a List?"
   ]
  },
  {
   "cell_type": "code",
   "execution_count": 8,
   "metadata": {},
   "outputs": [
    {
     "name": "stdout",
     "output_type": "stream",
     "text": [
      "List : [650, 20, 30, 2100, 100, 301, 5901, 9081, 899, 10001]\n",
      "Odd Number in List : [301, 5901, 9081, 899, 10001]\n"
     ]
    }
   ],
   "source": [
    "def oddnumber(list1):\n",
    "    odd=[]\n",
    "    for i in range(len(list1)):\n",
    "        if list1[i]%2!=0:\n",
    "            odd.append(list1[i])\n",
    "    return odd\n",
    "\n",
    "list1=[650,20,30,2100,100,301,5901,9081,899,10001]\n",
    "print(f'List : {list1}\\nOdd Number in List : {oddnumber(list1)}')"
   ]
  },
  {
   "cell_type": "markdown",
   "metadata": {},
   "source": [
    "9.\tWrite a Python program to Remove empty List from List?"
   ]
  },
  {
   "cell_type": "code",
   "execution_count": 24,
   "metadata": {},
   "outputs": [
    {
     "name": "stdout",
     "output_type": "stream",
     "text": [
      "Original List : [[10, 20], [20], [], [2, 3], []]\n",
      "New List : [[10, 20], [20], [2, 3]]\n"
     ]
    }
   ],
   "source": [
    "def removeemptylist(l):\n",
    "    l1=[]\n",
    "    for i in range(len(l)):\n",
    "        if l[i]!=[]:\n",
    "            l1.append(l[i])\n",
    "    return l1\n",
    "\n",
    "l=[[10,20],[20],[],[2,3],[]]\n",
    "print(f'Original List : {l}\\nNew List : {removeemptylist(l)}')"
   ]
  },
  {
   "cell_type": "code",
   "execution_count": 27,
   "metadata": {},
   "outputs": [
    {
     "name": "stdout",
     "output_type": "stream",
     "text": [
      "Original List : [[10, 20], [20], [], [2, 3], []]\n",
      "New List : [[10, 20], [20], [2, 3]]\n"
     ]
    }
   ],
   "source": [
    "l=[[10,20],[20],[],[2,3],[]]\n",
    "\n",
    "res = list(filter(None, l))\n",
    "print(f'Original List : {l}\\nNew List : {res}')"
   ]
  },
  {
   "cell_type": "markdown",
   "metadata": {},
   "source": [
    "10.\tWrite a Python program to Cloning or Copying a list?"
   ]
  },
  {
   "cell_type": "code",
   "execution_count": 29,
   "metadata": {},
   "outputs": [
    {
     "name": "stdout",
     "output_type": "stream",
     "text": [
      "Original List : ['hello', 1, 2, [11, 12]]\n",
      "Copied List : ['hello', 1, 2, [11, 12]]\n"
     ]
    }
   ],
   "source": [
    "from copy import copy\n",
    "l1=['hello',1,2,[11,12]]\n",
    "print(f'Original List : {l1}')\n",
    "l2=copy(l1)\n",
    "print(f'Copied List : {l2}')"
   ]
  },
  {
   "cell_type": "code",
   "execution_count": 34,
   "metadata": {},
   "outputs": [
    {
     "name": "stdout",
     "output_type": "stream",
     "text": [
      "Original List : ['hello', 1, 2, [11, 12], 'ineuron', 101]\n",
      "Copied List : ['hello', 1, 2, [11, 12], 'ineuron', 101]\n"
     ]
    }
   ],
   "source": [
    "'''OR'''\n",
    "l1=['hello',1,2,[11,12],'ineuron',101]\n",
    "l2=l1[:]\n",
    "print(f'Original List : {l1}\\nCopied List : {l2}')\n"
   ]
  },
  {
   "cell_type": "markdown",
   "metadata": {},
   "source": [
    "11.\tWrite a Python program to Count occurrences of an element in a list?"
   ]
  },
  {
   "cell_type": "code",
   "execution_count": 46,
   "metadata": {},
   "outputs": [
    {
     "name": "stdout",
     "output_type": "stream",
     "text": [
      "Number of occurrences of an element 1: 4\n"
     ]
    }
   ],
   "source": [
    "l1=['hello',1,2,'ineuron',1,2,1,1,'hello','hello']\n",
    "print(f'Number of occurrences of an element 1: {l1.count(1)}')"
   ]
  },
  {
   "cell_type": "code",
   "execution_count": 47,
   "metadata": {},
   "outputs": [
    {
     "data": {
      "text/plain": [
       "Counter({'hello': 3, 1: 4, 2: 2, 'ineuron': 1})"
      ]
     },
     "execution_count": 47,
     "metadata": {},
     "output_type": "execute_result"
    }
   ],
   "source": [
    "'''for all elements'''\n",
    "from collections import Counter\n",
    "l1=['hello',1,2,'ineuron',1,2,1,1,'hello','hello']\n",
    "Counter(l1)"
   ]
  }
 ],
 "metadata": {
  "kernelspec": {
   "display_name": "Python 3",
   "language": "python",
   "name": "python3"
  },
  "language_info": {
   "codemirror_mode": {
    "name": "ipython",
    "version": 3
   },
   "file_extension": ".py",
   "mimetype": "text/x-python",
   "name": "python",
   "nbconvert_exporter": "python",
   "pygments_lexer": "ipython3",
   "version": "3.8.5"
  }
 },
 "nbformat": 4,
 "nbformat_minor": 4
}
