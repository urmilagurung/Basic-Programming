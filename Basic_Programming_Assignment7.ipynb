{
 "cells": [
  {
   "cell_type": "markdown",
   "metadata": {},
   "source": [
    "# Assignment 7"
   ]
  },
  {
   "cell_type": "markdown",
   "metadata": {},
   "source": [
    "1.\tWrite a Python Program to find sum of array?"
   ]
  },
  {
   "cell_type": "code",
   "execution_count": 5,
   "metadata": {},
   "outputs": [
    {
     "name": "stdout",
     "output_type": "stream",
     "text": [
      "Sum of array:  150\n",
      "Type :  <class 'numpy.ndarray'>\n"
     ]
    },
    {
     "data": {
      "text/plain": [
       "numpy.ndarray"
      ]
     },
     "execution_count": 5,
     "metadata": {},
     "output_type": "execute_result"
    }
   ],
   "source": [
    "import numpy as np\n",
    "l = np.array([10,20,30,40,50])\n",
    "sum=0\n",
    "for i in l:\n",
    "    sum+=i\n",
    "print('Sum of array: ',sum)\n",
    "print('Type : ',type(l))\n",
    "type(l)"
   ]
  },
  {
   "cell_type": "markdown",
   "metadata": {},
   "source": [
    "2.\tWrite a Python Program to find largest element in an array?"
   ]
  },
  {
   "cell_type": "code",
   "execution_count": 12,
   "metadata": {},
   "outputs": [
    {
     "data": {
      "text/plain": [
       "'Largest element in an array : 100'"
      ]
     },
     "execution_count": 12,
     "metadata": {},
     "output_type": "execute_result"
    }
   ],
   "source": [
    "import numpy as np\n",
    "def largestelement(l):\n",
    "    c=l[0]\n",
    "    for i in l:\n",
    "        if c<i:\n",
    "            c=i\n",
    "    return 'Largest element in an array : '+str(c)\n",
    "\n",
    "result = largestelement(np.array([10,20,100,30,40,50]))\n",
    "result"
   ]
  },
  {
   "cell_type": "markdown",
   "metadata": {},
   "source": [
    "3.\tWrite a Python Program for array rotation?"
   ]
  },
  {
   "cell_type": "code",
   "execution_count": 24,
   "metadata": {},
   "outputs": [
    {
     "name": "stdout",
     "output_type": "stream",
     "text": [
      "Array Before rotation :  [0, 1, 2, 3, 4, 5]\n",
      "Array After rotation :   [4, 5, 0, 1, 2, 3]\n"
     ]
    }
   ],
   "source": [
    "def rotatearray(arr,arrlen,element):\n",
    "    temp=[]\n",
    "    i=0\n",
    "    while i<element:\n",
    "        temp.append(arr[i])\n",
    "        i+=1\n",
    "    i=0\n",
    "    \n",
    "    while element<arrlen:\n",
    "        arr[i]=arr[element]\n",
    "        i+=1\n",
    "        element+=1\n",
    "    arr=arr[:i]+temp\n",
    "    return arr\n",
    "\n",
    "arr=[0,1,2,3,4,5]\n",
    "print('Array Before rotation : ',arr)\n",
    "print('Array After rotation : ',end='  ')\n",
    "print(rotatearray(arr,len(arr),4))"
   ]
  },
  {
   "cell_type": "markdown",
   "metadata": {},
   "source": [
    "4.\tWrite a Python Program to Split the array and add the first part to the end?"
   ]
  },
  {
   "cell_type": "code",
   "execution_count": 49,
   "metadata": {},
   "outputs": [
    {
     "name": "stdout",
     "output_type": "stream",
     "text": [
      "Array after Spliting First Part to End :  [30, 40, 50, 60, 10, 20]\n"
     ]
    }
   ],
   "source": [
    "def splitarray(arr,arrlen,splitelement):\n",
    "    temp=[]\n",
    "    i=0\n",
    "    while i<(splitelement):\n",
    "        temp.append(arr[i])\n",
    "        i+=1\n",
    "    return arr[splitelement:]+temp\n",
    "\n",
    "\n",
    "arr=[10,20,30,40,50,60]\n",
    "print('Array after Spliting First Part to End : ',end=' ')\n",
    "print(splitarray(arr,len(arr),2))"
   ]
  },
  {
   "cell_type": "markdown",
   "metadata": {},
   "source": [
    "5.\tWrite a Python Program to check if given array is Monotonic?"
   ]
  },
  {
   "cell_type": "code",
   "execution_count": 64,
   "metadata": {},
   "outputs": [
    {
     "name": "stdout",
     "output_type": "stream",
     "text": [
      "Input size of array : 1\n",
      "Please enter size greater than 2!!\n",
      "Input size of array : 4\n",
      "Input value of position 0 : 3\n",
      "Input value of position 1 : 4\n",
      "Input value of position 2 : 6\n",
      "Input value of position 3 : 9\n",
      "[3, 4, 6, 9] \n",
      "Array is Monotonic Increasing!\n"
     ]
    }
   ],
   "source": [
    "'''\n",
    "A monotonic array is an array where elements are either sorted in increasing order or in decreasing order. \n",
    "'''\n",
    "def isMonotonic(arr):\n",
    "    if all(arr[i]<=arr[i+1] for i in range(len(arr)-1)):\n",
    "        return 'Monotonic Increasing!'\n",
    "    elif all(arr[i]>=arr[i+1] for i in range(len(arr)-1)):\n",
    "        return 'Monotonic Decreasing!'\n",
    "    else:\n",
    "        return 'not Monotonic!'\n",
    "    \n",
    "n=int(input('Input size of array : '))\n",
    "arr=[]\n",
    "while n<2:\n",
    "    print('Please enter size greater than 2!!')\n",
    "    n=int(input('Input size of array : '))\n",
    "for i in range(n):\n",
    "    s=int(input(f'Input value of position {i} : '))\n",
    "    arr.append(s)\n",
    "\n",
    "print(f'{arr} \\nArray is '+str(isMonotonic(arr)))"
   ]
  }
 ],
 "metadata": {
  "kernelspec": {
   "display_name": "Python 3",
   "language": "python",
   "name": "python3"
  },
  "language_info": {
   "codemirror_mode": {
    "name": "ipython",
    "version": 3
   },
   "file_extension": ".py",
   "mimetype": "text/x-python",
   "name": "python",
   "nbconvert_exporter": "python",
   "pygments_lexer": "ipython3",
   "version": "3.8.5"
  }
 },
 "nbformat": 4,
 "nbformat_minor": 4
}
