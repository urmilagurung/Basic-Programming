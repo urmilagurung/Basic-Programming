{
 "cells": [
  {
   "cell_type": "markdown",
   "metadata": {},
   "source": [
    "# Basic Python Assignment 11"
   ]
  },
  {
   "cell_type": "markdown",
   "metadata": {},
   "source": [
    "1.\tWrite a Python program to find words which are greater than given length k?"
   ]
  },
  {
   "cell_type": "code",
   "execution_count": 7,
   "metadata": {},
   "outputs": [
    {
     "name": "stdout",
     "output_type": "stream",
     "text": [
      "Enter a string : Hello Ineuron I am Bot. Nice Seeing You!\n",
      "Enter the length : 4\n"
     ]
    },
    {
     "data": {
      "text/plain": [
       "'Hello Ineuron Seeing'"
      ]
     },
     "execution_count": 7,
     "metadata": {},
     "output_type": "execute_result"
    }
   ],
   "source": [
    "def given(string,k):\n",
    "    new=[]\n",
    "    new_string=string.split()\n",
    "    for i in new_string:\n",
    "        if len(i)>k:\n",
    "            new.append(i)\n",
    "    return ' '.join(new)\n",
    "string=input('Enter a string : ')\n",
    "k=int(input('Enter the length : '))\n",
    "given(string,k)"
   ]
  },
  {
   "cell_type": "markdown",
   "metadata": {},
   "source": [
    "2.\tWrite a Python program for removing i-th character from a string?"
   ]
  },
  {
   "cell_type": "code",
   "execution_count": 24,
   "metadata": {},
   "outputs": [
    {
     "name": "stdout",
     "output_type": "stream",
     "text": [
      "Enter a string : Umbrella\n",
      "Enter the index to remove : 5\n",
      "After removal of 5th character :  Umbrela\n"
     ]
    }
   ],
   "source": [
    "def removingcharacter(string,i):\n",
    "    l=[]\n",
    "    for a in string:\n",
    "        l.append(a)\n",
    "    for b in l:\n",
    "        if l.index(b)==i:\n",
    "            l.pop(i)\n",
    "    return ''.join(l)\n",
    "string=input('Enter a string : ')\n",
    "i=int(input('Enter the index to remove : '))\n",
    "n=removingcharacter(string,i)\n",
    "print(f'After removal of {i}th character : ',n)"
   ]
  },
  {
   "cell_type": "markdown",
   "metadata": {},
   "source": [
    "3.\tWrite a Python program to split and join a string?"
   ]
  },
  {
   "cell_type": "code",
   "execution_count": 28,
   "metadata": {},
   "outputs": [
    {
     "name": "stdout",
     "output_type": "stream",
     "text": [
      "Original String : Hello!#My#name#is#HP!\n",
      "String after split : ['Hello!', 'My', 'name', 'is', 'HP!']\n",
      "New String : Hello! My name is HP!\n"
     ]
    }
   ],
   "source": [
    "def splitjoin(string):\n",
    "    print(f'Original String : {string}')\n",
    "    string=string.split('#')\n",
    "    print(f'String after split : {string}')\n",
    "    string=' '.join(string)\n",
    "    print(f'New String : {string}')\n",
    "splitjoin('Hello!#My#name#is#HP!')"
   ]
  },
  {
   "cell_type": "markdown",
   "metadata": {},
   "source": [
    "4.\tWrite a Python to check if a given string is binary string or not?"
   ]
  },
  {
   "cell_type": "code",
   "execution_count": 37,
   "metadata": {},
   "outputs": [],
   "source": [
    "def checkbinary(string):\n",
    "    Flag=True\n",
    "    for i in string:\n",
    "        if i.isdigit() and (int(i)==0 or int(i)==1):\n",
    "            Flag=True\n",
    "        else:\n",
    "            return False\n",
    "    return Flag"
   ]
  },
  {
   "cell_type": "code",
   "execution_count": 38,
   "metadata": {},
   "outputs": [
    {
     "data": {
      "text/plain": [
       "True"
      ]
     },
     "execution_count": 38,
     "metadata": {},
     "output_type": "execute_result"
    }
   ],
   "source": [
    "checkbinary('01010101010')"
   ]
  },
  {
   "cell_type": "code",
   "execution_count": 39,
   "metadata": {},
   "outputs": [
    {
     "data": {
      "text/plain": [
       "False"
      ]
     },
     "execution_count": 39,
     "metadata": {},
     "output_type": "execute_result"
    }
   ],
   "source": [
    "checkbinary('01010101010Hello')"
   ]
  },
  {
   "cell_type": "code",
   "execution_count": 40,
   "metadata": {},
   "outputs": [
    {
     "data": {
      "text/plain": [
       "False"
      ]
     },
     "execution_count": 40,
     "metadata": {},
     "output_type": "execute_result"
    }
   ],
   "source": [
    "checkbinary('010210101010')"
   ]
  },
  {
   "cell_type": "markdown",
   "metadata": {},
   "source": [
    "5.\tWrite a Python program to find uncommon words from two Strings?"
   ]
  },
  {
   "cell_type": "code",
   "execution_count": 54,
   "metadata": {},
   "outputs": [],
   "source": [
    "def uncommonword(string1,string2):\n",
    "    string1=set(string1.split())\n",
    "    string2=set(string2.split())\n",
    "    uncommon=list(string1.difference(string2))\n",
    "    uncommon.extend(list(string2.difference(string1)))\n",
    "    return uncommon"
   ]
  },
  {
   "cell_type": "code",
   "execution_count": 55,
   "metadata": {},
   "outputs": [
    {
     "data": {
      "text/plain": [
       "['Fine', 'Good']"
      ]
     },
     "execution_count": 55,
     "metadata": {},
     "output_type": "execute_result"
    }
   ],
   "source": [
    "uncommonword('Hello I am Fine','Hello I am Good')"
   ]
  },
  {
   "cell_type": "code",
   "execution_count": 56,
   "metadata": {},
   "outputs": [
    {
     "data": {
      "text/plain": [
       "['Cici', 'Fine', 'am', 'Good', 'is', 'I']"
      ]
     },
     "execution_count": 56,
     "metadata": {},
     "output_type": "execute_result"
    }
   ],
   "source": [
    "uncommonword('Hello Cici am Fine','Hello I is Good')"
   ]
  },
  {
   "cell_type": "code",
   "execution_count": null,
   "metadata": {},
   "outputs": [],
   "source": [
    "6.\tWrite a Python to find all duplicate characters in string?"
   ]
  },
  {
   "cell_type": "code",
   "execution_count": 67,
   "metadata": {},
   "outputs": [],
   "source": [
    "def duplicate(string):\n",
    "    l=[]\n",
    "    new=[]\n",
    "    for i in string:\n",
    "        l.append(i)\n",
    "    for i in l:\n",
    "        count=0\n",
    "        for j in l:\n",
    "            if i.lower()==j.lower():\n",
    "                count+=1\n",
    "        if count>=2:\n",
    "            if i not in new and i!=' ':\n",
    "                new.append(i)\n",
    "    return new"
   ]
  },
  {
   "cell_type": "code",
   "execution_count": 69,
   "metadata": {},
   "outputs": [
    {
     "data": {
      "text/plain": [
       "['p', 'o']"
      ]
     },
     "execution_count": 69,
     "metadata": {},
     "output_type": "execute_result"
    }
   ],
   "source": [
    "duplicate('Hippopotamus')"
   ]
  },
  {
   "cell_type": "markdown",
   "metadata": {},
   "source": [
    "7.\tWrite a Python Program to check if a string contains any special character?"
   ]
  },
  {
   "cell_type": "code",
   "execution_count": 70,
   "metadata": {},
   "outputs": [],
   "source": [
    "# Python3 program to check if a string\n",
    "# contains any special character\n",
    "\n",
    "from string import punctuation\n",
    "def checkspecial(string):\n",
    "    for i in string:\n",
    "        for p in punctuation:\n",
    "            if i==p:\n",
    "                return True\n",
    "    return False"
   ]
  },
  {
   "cell_type": "code",
   "execution_count": 71,
   "metadata": {},
   "outputs": [
    {
     "data": {
      "text/plain": [
       "True"
      ]
     },
     "execution_count": 71,
     "metadata": {},
     "output_type": "execute_result"
    }
   ],
   "source": [
    "checkspecial('Bella!')"
   ]
  },
  {
   "cell_type": "code",
   "execution_count": 72,
   "metadata": {},
   "outputs": [
    {
     "data": {
      "text/plain": [
       "True"
      ]
     },
     "execution_count": 72,
     "metadata": {},
     "output_type": "execute_result"
    }
   ],
   "source": [
    "checkspecial('Bella%#u')"
   ]
  },
  {
   "cell_type": "code",
   "execution_count": 73,
   "metadata": {},
   "outputs": [
    {
     "data": {
      "text/plain": [
       "False"
      ]
     },
     "execution_count": 73,
     "metadata": {},
     "output_type": "execute_result"
    }
   ],
   "source": [
    "checkspecial('Bella')"
   ]
  },
  {
   "cell_type": "code",
   "execution_count": 1,
   "metadata": {},
   "outputs": [
    {
     "name": "stdout",
     "output_type": "stream",
     "text": [
      "Enter the string a : hello#u%ine#ron#@&\n",
      "String hello#u%ine#ron#@& has special charecter/s : ['#', '%', '#', '#', '@', '&']\n"
     ]
    }
   ],
   "source": [
    "# Python3 program to identify special character in string\n",
    "# contains any special character\n",
    "\n",
    "import string\n",
    "\n",
    "string_char = string.punctuation\n",
    "spChar = []\n",
    "\n",
    "str = input(\"Enter the string a : \").lower()\n",
    "for i in str:\n",
    "    if i in string_char:\n",
    "        spChar.append(i)\n",
    "if len(spChar) > 0:\n",
    "    print(\"String {} has special charecter/s : {}\".format(str,spChar))"
   ]
  },
  {
   "cell_type": "markdown",
   "metadata": {},
   "source": []
  }
 ],
 "metadata": {
  "kernelspec": {
   "display_name": "Python 3",
   "language": "python",
   "name": "python3"
  },
  "language_info": {
   "codemirror_mode": {
    "name": "ipython",
    "version": 3
   },
   "file_extension": ".py",
   "mimetype": "text/x-python",
   "name": "python",
   "nbconvert_exporter": "python",
   "pygments_lexer": "ipython3",
   "version": "3.8.5"
  }
 },
 "nbformat": 4,
 "nbformat_minor": 4
}
