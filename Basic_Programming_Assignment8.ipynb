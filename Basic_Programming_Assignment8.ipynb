{
 "cells": [
  {
   "cell_type": "markdown",
   "metadata": {},
   "source": [
    "# Assignment 8"
   ]
  },
  {
   "cell_type": "markdown",
   "metadata": {},
   "source": [
    "1.\tWrite a Python Program to Add Two Matrices?"
   ]
  },
  {
   "cell_type": "code",
   "execution_count": 11,
   "metadata": {},
   "outputs": [
    {
     "name": "stdout",
     "output_type": "stream",
     "text": [
      "[20, 20, 20]\n",
      "[20, 20, 20]\n",
      "[20, 20, 20]\n"
     ]
    }
   ],
   "source": [
    "A = [[1,2,3], \n",
    "     [4,5,6], \n",
    "     [7 ,8,9]] \n",
    "   \n",
    "B = [[19,18,17], \n",
    "     [16,15,14], \n",
    "     [13,12,11]] \n",
    "   \n",
    "   \n",
    "result = [[0,0,0], \n",
    "          [0,0,0],  \n",
    "          [0,0,0]] \n",
    "\n",
    "for i in range(len(A)):\n",
    "    for j in range(len(A[i])):\n",
    "        result[i][j]=A[i][j]+B[i][j]\n",
    "for i in result:\n",
    "    print(i)"
   ]
  },
  {
   "cell_type": "markdown",
   "metadata": {},
   "source": [
    "2.\tWrite a Python Program to Multiply Two Matrices?"
   ]
  },
  {
   "cell_type": "code",
   "execution_count": 40,
   "metadata": {},
   "outputs": [
    {
     "name": "stdout",
     "output_type": "stream",
     "text": [
      "[17, 29]\n",
      "[44, 74]\n",
      "[71, 119]\n"
     ]
    }
   ],
   "source": [
    "A = [[1,2,3], \n",
    "     [4,5,6], \n",
    "     [7 ,8,9]] \n",
    "   \n",
    "B = [[2,4], \n",
    "     [6,8], \n",
    "     [1,3]] \n",
    "\n",
    "answer = [[0,0], \n",
    "          [0,0],  \n",
    "          [0,0]] \n",
    "\n",
    "for i in range(len(A)):\n",
    "    for j in range(len(B[i])):\n",
    "        for k in range(len(B)):\n",
    "            answer[i][j]+=(A[i][k]*B[k][j])\n",
    "for i in answer:\n",
    "    print(i)        "
   ]
  },
  {
   "cell_type": "markdown",
   "metadata": {},
   "source": [
    "3.\tWrite a Python Program to Transpose a Matrix?"
   ]
  },
  {
   "cell_type": "code",
   "execution_count": 52,
   "metadata": {},
   "outputs": [
    {
     "name": "stdout",
     "output_type": "stream",
     "text": [
      "[11, 33, 55]\n",
      "[22, 44, 66]\n"
     ]
    }
   ],
   "source": [
    "matrix1 = [[11, 22],\n",
    "           [33, 44],\n",
    "           [55, 66]]\n",
    "\n",
    "matrix2 = [[0, 0, 0],\n",
    "           [0, 0, 0]]\n",
    "\n",
    "for i in range(len(matrix1)):\n",
    "    for j in range(len(matrix1[i])):\n",
    "        matrix2[j][i]=matrix1[i][j]\n",
    "for i in matrix2:\n",
    "    print(i)"
   ]
  },
  {
   "cell_type": "markdown",
   "metadata": {},
   "source": [
    "4.\tWrite a Python Program to Sort Words in Alphabetic Order?"
   ]
  },
  {
   "cell_type": "code",
   "execution_count": 8,
   "metadata": {},
   "outputs": [
    {
     "data": {
      "text/plain": [
       "'aberz'"
      ]
     },
     "execution_count": 8,
     "metadata": {},
     "output_type": "execute_result"
    }
   ],
   "source": [
    "def sortString(str):\n",
    "    return ''.join(sorted(str))\n",
    "sortString('zebra')"
   ]
  },
  {
   "cell_type": "markdown",
   "metadata": {},
   "source": [
    "5.\tWrite a Python Program to Remove Punctuation From a String?"
   ]
  },
  {
   "cell_type": "code",
   "execution_count": 11,
   "metadata": {},
   "outputs": [
    {
     "name": "stdout",
     "output_type": "stream",
     "text": [
      "String with punctuation :  Hello! My name's Urmila. My password is @@$$$^%&&%D41\n",
      "String without punctuation :  Hello My names Urmila My password is D41\n"
     ]
    }
   ],
   "source": [
    "import re\n",
    "\n",
    "string=\"Hello! My name's Urmila. My password is @@$$$^%&&%D41\"\n",
    "\n",
    "new_string = re.sub(r'[^\\w\\s]','',string)\n",
    "\n",
    "print('String with punctuation : ',string)\n",
    "print('String without punctuation : ',new_string)"
   ]
  }
 ],
 "metadata": {
  "kernelspec": {
   "display_name": "Python 3",
   "language": "python",
   "name": "python3"
  },
  "language_info": {
   "codemirror_mode": {
    "name": "ipython",
    "version": 3
   },
   "file_extension": ".py",
   "mimetype": "text/x-python",
   "name": "python",
   "nbconvert_exporter": "python",
   "pygments_lexer": "ipython3",
   "version": "3.8.5"
  }
 },
 "nbformat": 4,
 "nbformat_minor": 4
}
