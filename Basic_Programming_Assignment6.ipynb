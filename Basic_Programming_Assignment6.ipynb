{
 "cells": [
  {
   "cell_type": "markdown",
   "metadata": {},
   "source": [
    "# Assignment 6"
   ]
  },
  {
   "cell_type": "markdown",
   "metadata": {},
   "source": [
    "1.\tWrite a Python Program to Display Fibonacci Sequence Using Recursion?"
   ]
  },
  {
   "cell_type": "code",
   "execution_count": 1,
   "metadata": {},
   "outputs": [
    {
     "name": "stdout",
     "output_type": "stream",
     "text": [
      "Enter a number : 15\n",
      "0\t1\t1\t2\t3\t5\t8\t13\t21\t34\t55\t89\t144\t233\t377\t"
     ]
    }
   ],
   "source": [
    "def Fibonacci_Seq(n):\n",
    "    if n<2:\n",
    "        return n\n",
    "    return Fibonacci_Seq(n-1)+Fibonacci_Seq(n-2)\n",
    "Fibonacci_Series=0\n",
    "n = int(input('Enter a number : '))\n",
    "for i in range(n):\n",
    "    Fibonacci_Series=Fibonacci_Seq(i)\n",
    "    print(Fibonacci_Series,end='\\t')"
   ]
  },
  {
   "cell_type": "markdown",
   "metadata": {},
   "source": [
    "2.\tWrite a Python Program to Find Factorial of Number Using Recursion?"
   ]
  },
  {
   "cell_type": "code",
   "execution_count": 2,
   "metadata": {},
   "outputs": [
    {
     "name": "stdout",
     "output_type": "stream",
     "text": [
      "Enter an positive number which you want to find Factorial: 15\n",
      "Factorial of 15: 1307674368000\n"
     ]
    }
   ],
   "source": [
    "def Find_Factorial(num):\n",
    "    if num==0:\n",
    "        return 1\n",
    "    else:\n",
    "        return num*(Find_Factorial(num-1))\n",
    "num=int(input('Enter an positive number which you want to find Factorial: '))\n",
    "while num<0:\n",
    "    print('Please enter Positive number!!')\n",
    "    num=int(input('Enter an positive number which you want to find Factorial: '))\n",
    "else:\n",
    "    print(f'Factorial of {num}: {Find_Factorial(num)}')"
   ]
  },
  {
   "cell_type": "markdown",
   "metadata": {},
   "source": [
    "3.\tWrite a Python Program to calculate your Body Mass Index?"
   ]
  },
  {
   "cell_type": "code",
   "execution_count": 3,
   "metadata": {},
   "outputs": [
    {
     "name": "stdout",
     "output_type": "stream",
     "text": [
      "Input your height in Meter: 1.52\n",
      "Input your weight in Kilogram: 49\n",
      "BMI :  21.21\n",
      "Result : Normal Weight\n"
     ]
    }
   ],
   "source": [
    "class human:\n",
    "    def __init__(self,weight,height):\n",
    "        self.weight=weight\n",
    "        self.height=height\n",
    "    def BMI(self):\n",
    "        b=round(self.weight/(self.height**2),2)\n",
    "        print('BMI : ',b,end='\\nResult : ')\n",
    "        if  b<18.5:\n",
    "            print('Underweight')\n",
    "        elif b>=18.5 and b<=24.9:\n",
    "            print('Normal Weight')\n",
    "        elif b>=25 and b<=29.9:\n",
    "            print('Overweight')\n",
    "        else:\n",
    "            print('Obesity')\n",
    "height = float(input('Input your height in Meter: '))\n",
    "weight = float(input('Input your weight in Kilogram: '))\n",
    "human(weight,height).BMI()"
   ]
  },
  {
   "cell_type": "markdown",
   "metadata": {},
   "source": [
    "4.\tWrite a Python Program to calculate the natural logarithm of any number?"
   ]
  },
  {
   "cell_type": "code",
   "execution_count": 4,
   "metadata": {},
   "outputs": [
    {
     "data": {
      "text/plain": [
       "0.6931471805599453"
      ]
     },
     "execution_count": 4,
     "metadata": {},
     "output_type": "execute_result"
    }
   ],
   "source": [
    "import math as m\n",
    "\n",
    "def function(x):\n",
    "    return m.log(x)\n",
    "\n",
    "function(2)"
   ]
  },
  {
   "cell_type": "markdown",
   "metadata": {},
   "source": [
    "5.\tWrite a Python Program for cube sum of first n natural numbers?"
   ]
  },
  {
   "cell_type": "code",
   "execution_count": 5,
   "metadata": {},
   "outputs": [
    {
     "name": "stdout",
     "output_type": "stream",
     "text": [
      "No. of natural numbers you want to add : 0\n",
      "Please enter positive number!\n",
      "No. of natural numbers you want to add : -3\n",
      "Please enter positive number!\n",
      "No. of natural numbers you want to add : 12\n",
      "Cube Addition of 12 natural numbers : 6084\n"
     ]
    }
   ],
   "source": [
    "def FindCube(n):\n",
    "    cube=0\n",
    "    for i in range(1,n+1):\n",
    "        cube+=(i**3)\n",
    "    print(f'Cube Addition of {n} natural numbers : {cube}')\n",
    "\n",
    "n = int(input('No. of natural numbers you want to add : '))\n",
    "while n<=0:\n",
    "    print('Please enter positive number!')\n",
    "    n = int(input('No. of natural numbers you want to add : '))\n",
    "FindCube(n)"
   ]
  }
 ],
 "metadata": {
  "kernelspec": {
   "display_name": "Python 3",
   "language": "python",
   "name": "python3"
  },
  "language_info": {
   "codemirror_mode": {
    "name": "ipython",
    "version": 3
   },
   "file_extension": ".py",
   "mimetype": "text/x-python",
   "name": "python",
   "nbconvert_exporter": "python",
   "pygments_lexer": "ipython3",
   "version": "3.8.5"
  }
 },
 "nbformat": 4,
 "nbformat_minor": 4
}
