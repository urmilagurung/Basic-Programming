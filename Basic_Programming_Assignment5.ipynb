{
 "cells": [
  {
   "cell_type": "markdown",
   "metadata": {},
   "source": [
    "# Basic Programming Assingment 5"
   ]
  },
  {
   "cell_type": "markdown",
   "metadata": {},
   "source": [
    "1.\tWrite a Python Program to Find LCM?"
   ]
  },
  {
   "cell_type": "code",
   "execution_count": 31,
   "metadata": {},
   "outputs": [],
   "source": [
    "def find_LCM(num1,num2):\n",
    "    start=max(num1,num2)\n",
    "    end=num1*num2\n",
    "    for i in range(start,end+1):\n",
    "        if i%num1==0 and i%num2==0:\n",
    "            lcm=i\n",
    "            break\n",
    "    print(f'LCM of {num1} and {num2} is : {lcm}')"
   ]
  },
  {
   "cell_type": "code",
   "execution_count": 39,
   "metadata": {},
   "outputs": [
    {
     "name": "stdout",
     "output_type": "stream",
     "text": [
      "LCM of 60 and 160 is : 480\n"
     ]
    }
   ],
   "source": [
    "find_LCM(60,160)"
   ]
  },
  {
   "cell_type": "markdown",
   "metadata": {},
   "source": [
    "2.\tWrite a Python Program to Find HCF?"
   ]
  },
  {
   "cell_type": "code",
   "execution_count": 40,
   "metadata": {},
   "outputs": [],
   "source": [
    "def find_HCF(num1,num2):\n",
    "    check=max(num1,num2)\n",
    "    for i in range(1,check+1):\n",
    "        if num1%i==0 and num2%i==0:\n",
    "            hcf=i\n",
    "    print(f'HCF of {num1} and {num2} is : {hcf}')"
   ]
  },
  {
   "cell_type": "code",
   "execution_count": 50,
   "metadata": {},
   "outputs": [
    {
     "name": "stdout",
     "output_type": "stream",
     "text": [
      "HCF of 198 and 360 is : 18\n"
     ]
    }
   ],
   "source": [
    "find_HCF(198,360)"
   ]
  },
  {
   "cell_type": "markdown",
   "metadata": {},
   "source": [
    "3.\tWrite a Python Program to Convert Decimal to Binary, Octal and Hexadecimal?"
   ]
  },
  {
   "cell_type": "code",
   "execution_count": 61,
   "metadata": {},
   "outputs": [
    {
     "name": "stdout",
     "output_type": "stream",
     "text": [
      "Enter number to convert: 100\n",
      "Binary: 0b1100100\n",
      "Octal: 0o144\n",
      "Hexadecimal: 0x64\n"
     ]
    }
   ],
   "source": [
    "num=int(input('Enter number to convert: '))\n",
    "print(f'Binary: {bin(num)}')\n",
    "print(f'Octal: {oct(num)}')\n",
    "print(f'Hexadecimal: {hex(num)}')"
   ]
  },
  {
   "cell_type": "markdown",
   "metadata": {},
   "source": [
    "4.\tWrite a Python Program To Find ASCII value of a character?"
   ]
  },
  {
   "cell_type": "code",
   "execution_count": 78,
   "metadata": {},
   "outputs": [],
   "source": [
    "def find_ASCII(value):\n",
    "    print(f'ASCII value of {value} : {ord(value)}')"
   ]
  },
  {
   "cell_type": "code",
   "execution_count": 79,
   "metadata": {},
   "outputs": [
    {
     "name": "stdout",
     "output_type": "stream",
     "text": [
      "ASCII value of U : 85\n"
     ]
    }
   ],
   "source": [
    "find_ASCII('U')"
   ]
  },
  {
   "cell_type": "markdown",
   "metadata": {},
   "source": [
    "5.\tWrite a Python Program to Make a Simple Calculator with 4 basic mathematical operations?"
   ]
  },
  {
   "cell_type": "code",
   "execution_count": 86,
   "metadata": {},
   "outputs": [
    {
     "name": "stdout",
     "output_type": "stream",
     "text": [
      "Enter numbers for operation :\n",
      "Number 1 : 10\n",
      "Number 2 : 5\n",
      "Select number number for operation:\n",
      "1.Addition\n",
      "2.Sustraction\n",
      "3.Multiplication\n",
      "4.Division\n",
      "0.Exit\n",
      "Select operation: 1\n",
      "\n",
      "Addition of 10 and 5 : 15\n",
      "\n",
      "Select number number for operation:\n",
      "1.Addition\n",
      "2.Sustraction\n",
      "3.Multiplication\n",
      "4.Division\n",
      "0.Exit\n",
      "Select operation: 2\n",
      "\n",
      "Substraction of 10 and 5 : 5\n",
      "\n",
      "Select number number for operation:\n",
      "1.Addition\n",
      "2.Sustraction\n",
      "3.Multiplication\n",
      "4.Division\n",
      "0.Exit\n",
      "Select operation: 3\n",
      "\n",
      "Multiplication of 10 and 5 : 50\n",
      "\n",
      "Select number number for operation:\n",
      "1.Addition\n",
      "2.Sustraction\n",
      "3.Multiplication\n",
      "4.Division\n",
      "0.Exit\n",
      "Select operation: 4\n",
      "\n",
      "Division of 10 and 5 : 2.0\n",
      "\n",
      "Select number number for operation:\n",
      "1.Addition\n",
      "2.Sustraction\n",
      "3.Multiplication\n",
      "4.Division\n",
      "0.Exit\n",
      "Select operation: 5\n",
      "Invalid Choice!\n",
      "Select number number for operation:\n",
      "1.Addition\n",
      "2.Sustraction\n",
      "3.Multiplication\n",
      "4.Division\n",
      "0.Exit\n",
      "Select operation: 0\n",
      "Thank You!\n"
     ]
    }
   ],
   "source": [
    "class Calculator:\n",
    "    def add(a,b):\n",
    "        print(f'\\nAddition of {a} and {b} : {a+b}\\n')\n",
    "    def substract(a,b):\n",
    "        print(f'\\nSubstraction of {a} and {b} : {a-b}\\n')\n",
    "    def multiplication(a,b):\n",
    "        print(f'\\nMultiplication of {a} and {b} : {a*b}\\n')\n",
    "    def division(a,b):\n",
    "        print(f'\\nDivision of {a} and {b} : {a/b}\\n')\n",
    "print('Enter numbers for operation :')\n",
    "num1=int(input('Number 1 : '))\n",
    "num2=int(input('Number 2 : '))\n",
    "while True:\n",
    "    print('Select number number for operation:\\n1.Addition\\n2.Sustraction\\n3.Multiplication\\n4.Division\\n0.Exit')\n",
    "    select=int(input('Select operation: '))\n",
    "    if select in (1,2,3,4,0):\n",
    "        if select==1:\n",
    "            Calculator.add(num1,num2)\n",
    "        elif select==2:\n",
    "            Calculator.substract(num1,num2)\n",
    "        elif select==3:\n",
    "            Calculator.multiplication(num1,num2)\n",
    "        elif select==4:\n",
    "            while num2==0:\n",
    "                print('Enter number greater than 0!')\n",
    "                num2=int(input('Number 2 : '))\n",
    "            Calculator.division(num1,num2)\n",
    "        elif select==0:\n",
    "            break\n",
    "    else:\n",
    "        print('Invalid Choice!')\n",
    "print('Thank You!')"
   ]
  }
 ],
 "metadata": {
  "kernelspec": {
   "display_name": "Python 3",
   "language": "python",
   "name": "python3"
  },
  "language_info": {
   "codemirror_mode": {
    "name": "ipython",
    "version": 3
   },
   "file_extension": ".py",
   "mimetype": "text/x-python",
   "name": "python",
   "nbconvert_exporter": "python",
   "pygments_lexer": "ipython3",
   "version": "3.8.5"
  }
 },
 "nbformat": 4,
 "nbformat_minor": 4
}
