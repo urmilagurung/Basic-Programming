{
 "cells": [
  {
   "cell_type": "markdown",
   "metadata": {},
   "source": [
    "# Assignment 9"
   ]
  },
  {
   "cell_type": "markdown",
   "metadata": {},
   "source": [
    "1.\tWrite a Python program to check if the given number is a Disarium Number?"
   ]
  },
  {
   "cell_type": "code",
   "execution_count": 3,
   "metadata": {},
   "outputs": [
    {
     "name": "stdout",
     "output_type": "stream",
     "text": [
      "Enter number : 89\n",
      "89 is Disarium Number.\n"
     ]
    }
   ],
   "source": [
    "'''A number is called Disarium if sum of its digits powered with their \n",
    "respective positions is equal to the number itself\n",
    "'''\n",
    "number=input('Enter number : ')\n",
    "\n",
    "sum=0\n",
    "for i in number:\n",
    "    sum+=(int(i)**(number.index(i)+1))\n",
    "if sum==int(number):\n",
    "    print(f'{number} is Disarium Number.')\n",
    "else:\n",
    "    print(f'{number} is not Disarium Number.')"
   ]
  },
  {
   "cell_type": "markdown",
   "metadata": {},
   "source": [
    "### 2.\tWrite a Python program to print all disarium numbers between 1 to 100?"
   ]
  },
  {
   "cell_type": "code",
   "execution_count": 4,
   "metadata": {},
   "outputs": [
    {
     "name": "stdout",
     "output_type": "stream",
     "text": [
      "Disarium numbers between 1 and 100 : \n",
      "1\t2\t3\t4\t5\t6\t7\t8\t9\t89\t"
     ]
    }
   ],
   "source": [
    "def lengthcal(n):\n",
    "    length=0\n",
    "    while(n!=0):\n",
    "        length+=1\n",
    "        n=n//10\n",
    "    return length\n",
    "\n",
    "def sumofDigits(num):\n",
    "    rem=sum=0\n",
    "    len=lengthcal(num)\n",
    "\n",
    "    while(num>0):\n",
    "        rem=num%10\n",
    "        sum+=rem**len\n",
    "        num//=10\n",
    "        len-=1\n",
    "    return sum\n",
    "result=0\n",
    "\n",
    "print(\"Disarium numbers between 1 and 100 : \")\n",
    "for i in range(1,101):\n",
    "    result=sumofDigits(i)\n",
    "    \n",
    "    if result==i:\n",
    "        print(i,end='\\t')"
   ]
  },
  {
   "cell_type": "markdown",
   "metadata": {},
   "source": [
    "3.\tWrite a Python program to check if the given number is Happy Number?"
   ]
  },
  {
   "cell_type": "code",
   "execution_count": 2,
   "metadata": {},
   "outputs": [
    {
     "name": "stdout",
     "output_type": "stream",
     "text": [
      "Enter a number : 998\n",
      "998 is happy number.\n"
     ]
    }
   ],
   "source": [
    "'''happy number is a number which eventually reaches 1 when replaced by the sum of the square of each digit.'''\n",
    "\n",
    "def checkHappy(num):\n",
    "    rem=sum=0\n",
    "    while num>0:\n",
    "        rem=num%10\n",
    "        sum+=(rem*rem)\n",
    "        num//=10\n",
    "    return sum\n",
    "\n",
    "num=int(input('Enter a number : '))\n",
    "\n",
    "result=num\n",
    "while result!=1 and result!=4:\n",
    "    result=checkHappy(result)\n",
    "    \n",
    "if result==1:\n",
    "    print(f'{num} is happy number.')\n",
    "else:\n",
    "    print(f'{num} is not happy number.')\n"
   ]
  },
  {
   "cell_type": "markdown",
   "metadata": {},
   "source": [
    "4.\tWrite a Python program to print all happy numbers between 1 and 100?"
   ]
  },
  {
   "cell_type": "code",
   "execution_count": 6,
   "metadata": {},
   "outputs": [
    {
     "name": "stdout",
     "output_type": "stream",
     "text": [
      "Happy Numbers in the range of 1 to 100 :\n",
      "1    7    10    13    19    23    28    31    32    44    49    68    70    79    82    86    91    94    97    100    "
     ]
    }
   ],
   "source": [
    "def checkHappy(num):\n",
    "    rem=addition=0\n",
    "    while num>0:\n",
    "        rem=num%10\n",
    "        addition+=(rem**2)\n",
    "        num//=10\n",
    "    return addition\n",
    "\n",
    "print('Happy Numbers in the range of 1 to 100 :')\n",
    "for i in range(1,101):\n",
    "    result=i\n",
    "    while result!=1 and result!=4:\n",
    "        result=checkHappy(result)\n",
    "    if result==1:\n",
    "        print(i,end='    ')\n",
    "    "
   ]
  },
  {
   "cell_type": "markdown",
   "metadata": {},
   "source": [
    "5.\tWrite a Python program to determine whether the given number is a Harshad Number?"
   ]
  },
  {
   "cell_type": "code",
   "execution_count": 20,
   "metadata": {},
   "outputs": [
    {
     "name": "stdout",
     "output_type": "stream",
     "text": [
      "150 is Harshad Number.\n"
     ]
    }
   ],
   "source": [
    "'''If a number is divisible by the sum of its digits, then it will be known as a Harshad Number.'''\n",
    "def checkHarshad(num):\n",
    "    numadd=rem=0\n",
    "    newnum=num\n",
    "    while newnum>0:\n",
    "        rem=newnum%10\n",
    "        numadd+=rem\n",
    "        newnum//=10\n",
    "    if num%numadd==0:\n",
    "        print(f'{num} is Harshad Number.')\n",
    "    else:\n",
    "        print(f'{num} is not Harshad Number.')\n",
    "checkHarshad(150)"
   ]
  },
  {
   "cell_type": "markdown",
   "metadata": {},
   "source": [
    "6.\tWrite a Python program to print all pronic numbers between 1 and 100?"
   ]
  },
  {
   "cell_type": "code",
   "execution_count": 21,
   "metadata": {},
   "outputs": [
    {
     "name": "stdout",
     "output_type": "stream",
     "text": [
      "Pronic numbers between 1 to 100 : \n",
      "2\t6\t12\t20\t30\t42\t56\t72\t90\t"
     ]
    }
   ],
   "source": [
    "'''The pronic number is a product of two consecutive integers of the form: n(n+1)'''\n",
    "\n",
    "def checkpronic(num):\n",
    "    flag=False\n",
    "    for i in range(1,num+1):\n",
    "        if (i*(i+1))== num:\n",
    "            flag=True\n",
    "            break\n",
    "    return flag\n",
    "\n",
    "print('Pronic numbers between 1 to 100 : ')\n",
    "for i in range(1,101):\n",
    "    if(checkpronic(i)):\n",
    "        print(i,end='\\t')"
   ]
  }
 ],
 "metadata": {
  "kernelspec": {
   "display_name": "Python 3",
   "language": "python",
   "name": "python3"
  },
  "language_info": {
   "codemirror_mode": {
    "name": "ipython",
    "version": 3
   },
   "file_extension": ".py",
   "mimetype": "text/x-python",
   "name": "python",
   "nbconvert_exporter": "python",
   "pygments_lexer": "ipython3",
   "version": "3.8.5"
  }
 },
 "nbformat": 4,
 "nbformat_minor": 4
}
